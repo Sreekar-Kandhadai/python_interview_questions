{
  "nbformat": 4,
  "nbformat_minor": 0,
  "metadata": {
    "colab": {
      "provenance": [],
      "authorship_tag": "ABX9TyNwHpaxw6RiJ8faeLyl45cU",
      "include_colab_link": true
    },
    "kernelspec": {
      "name": "python3",
      "display_name": "Python 3"
    },
    "language_info": {
      "name": "python"
    }
  },
  "cells": [
    {
      "cell_type": "markdown",
      "metadata": {
        "id": "view-in-github",
        "colab_type": "text"
      },
      "source": [
        "<a href=\"https://colab.research.google.com/github/Sreekar-Kandhadai/python_interview_questions/blob/main/Strings/Exercise2.ipynb\" target=\"_parent\"><img src=\"https://colab.research.google.com/assets/colab-badge.svg\" alt=\"Open In Colab\"/></a>"
      ]
    },
    {
      "cell_type": "code",
      "execution_count": null,
      "metadata": {
        "id": "A2moMKZ1y9gP"
      },
      "outputs": [],
      "source": [
        "Print characters from a string that are present at an even index number Write a program to\n",
        "accept a string from the user and display characters that are present at an even index number.\n",
        "For example, str = \"pynative\" so you should display ‘p’, ‘n’, ‘t’, ‘v’.\n"
      ]
    },
    {
      "cell_type": "code",
      "source": [
        "s=input(\"enter the input\")\n",
        "\n",
        "x=list(s)\n",
        "\n",
        "print(x)\n",
        "\n",
        "for char in x[::2]:\n",
        "\n",
        "  print(char,end=\" \")"
      ],
      "metadata": {
        "colab": {
          "base_uri": "https://localhost:8080/"
        },
        "id": "WuRcS1X2zuhq",
        "outputId": "1bdffbf3-d3da-4e30-d872-2cf10e324c4f"
      },
      "execution_count": 2,
      "outputs": [
        {
          "output_type": "stream",
          "name": "stdout",
          "text": [
            "enter the inputsreekar\n",
            "['s', 'r', 'e', 'e', 'k', 'a', 'r']\n",
            "s e k r "
          ]
        }
      ]
    }
  ]
}