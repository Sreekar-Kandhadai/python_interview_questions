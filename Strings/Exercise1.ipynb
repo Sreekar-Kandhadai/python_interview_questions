{
  "nbformat": 4,
  "nbformat_minor": 0,
  "metadata": {
    "colab": {
      "provenance": [],
      "authorship_tag": "ABX9TyNLF4Vq62z7BMGYBYYfFAwM",
      "include_colab_link": true
    },
    "kernelspec": {
      "name": "python3",
      "display_name": "Python 3"
    },
    "language_info": {
      "name": "python"
    }
  },
  "cells": [
    {
      "cell_type": "markdown",
      "metadata": {
        "id": "view-in-github",
        "colab_type": "text"
      },
      "source": [
        "<a href=\"https://colab.research.google.com/github/Sreekar-Kandhadai/python_interview_questions/blob/main/Strings/Exercise1.ipynb\" target=\"_parent\"><img src=\"https://colab.research.google.com/assets/colab-badge.svg\" alt=\"Open In Colab\"/></a>"
      ]
    },
    {
      "cell_type": "code",
      "execution_count": null,
      "metadata": {
        "id": "A96ZpAl1u4tU"
      },
      "outputs": [],
      "source": [
        "Return the count of a given substring from a string Write a program to find how many times\n",
        "substring “radha” appears in the given string\n",
        "\n",
        "\"radha is most beutiful,radha is queen of vraj\"\n"
      ]
    },
    {
      "cell_type": "code",
      "source": [
        "\n",
        "s=\"radha is most beutiful,radha is queen of vraj\"\n",
        "\n",
        "res=s.count(\"radha\")\n",
        "\n",
        "print(res)"
      ],
      "metadata": {
        "colab": {
          "base_uri": "https://localhost:8080/"
        },
        "id": "hfR8H_wCxO4e",
        "outputId": "7d8b613d-3906-4799-ede9-0dfb07575415"
      },
      "execution_count": 1,
      "outputs": [
        {
          "output_type": "stream",
          "name": "stdout",
          "text": [
            "2\n"
          ]
        }
      ]
    }
  ]
}