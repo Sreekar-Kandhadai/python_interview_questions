{
  "nbformat": 4,
  "nbformat_minor": 0,
  "metadata": {
    "colab": {
      "provenance": [],
      "authorship_tag": "ABX9TyPegOAE6qAjahBnWa/YxG3/",
      "include_colab_link": true
    },
    "kernelspec": {
      "name": "python3",
      "display_name": "Python 3"
    },
    "language_info": {
      "name": "python"
    }
  },
  "cells": [
    {
      "cell_type": "markdown",
      "metadata": {
        "id": "view-in-github",
        "colab_type": "text"
      },
      "source": [
        "<a href=\"https://colab.research.google.com/github/Sreekar-Kandhadai/python_interview_questions/blob/main/Strings/Exercise3.ipynb\" target=\"_parent\"><img src=\"https://colab.research.google.com/assets/colab-badge.svg\" alt=\"Open In Colab\"/></a>"
      ]
    },
    {
      "cell_type": "code",
      "execution_count": null,
      "metadata": {
        "id": "Vi2TqcdI1R5B"
      },
      "outputs": [],
      "source": [
        "Remove first n characters from a string.\n",
        "Write a program to remove characters from a string ,starting from zero up to n and return a new string."
      ]
    },
    {
      "cell_type": "code",
      "source": [
        "word=\"Mahal\"\n",
        "\n",
        "n=2\n",
        "\n",
        "x=len(word)\n",
        "\n",
        "if n <=x:\n",
        "\n",
        "  res=word[n:]\n",
        "  print(res)\n",
        "\n",
        "else:\n",
        "  print(\"invalid\")"
      ],
      "metadata": {
        "colab": {
          "base_uri": "https://localhost:8080/"
        },
        "id": "odZlwnVA1drd",
        "outputId": "9e19a194-5cce-454d-ebf7-9f4ba6cbe63f"
      },
      "execution_count": 4,
      "outputs": [
        {
          "output_type": "stream",
          "name": "stdout",
          "text": [
            "hal\n"
          ]
        }
      ]
    }
  ]
}